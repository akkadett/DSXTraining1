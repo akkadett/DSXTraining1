{
    "metadata": {
        "kernelspec": {
            "language": "python", 
            "display_name": "Python 2 with Spark 2.0", 
            "name": "python2-spark20"
        }, 
        "language_info": {
            "nbconvert_exporter": "python", 
            "name": "python", 
            "pygments_lexer": "ipython2", 
            "version": "2.7.11", 
            "file_extension": ".py", 
            "codemirror_mode": {
                "version": 2, 
                "name": "ipython"
            }, 
            "mimetype": "text/x-python"
        }
    }, 
    "nbformat": 4, 
    "cells": [
        {
            "metadata": {}, 
            "cell_type": "markdown", 
            "source": "# Access dashDB and DB2 with Python\n\nThis notebook shows how to access a dashDB data warehouse or DB2 database when using Python. The examples use a dashDB warehouse, but the instructions apply to both dashDB and DB2.\n\n## Table of contents\n\n1. [Setup](#Setup) \n1. [Import the *ibmdbpy* Python library](#Import-the-ibmdbpy-Python-library)\n1. [Identify and enter the database connection credentials](#Identify-and-enter-the-database-connection-credentials)\n1. [Create the database connection](#Create-the-database-connection)\n1. [Use dataframe to read and manipulate tables](#Use-dataframe-to-read-and-manipulate-tables)\n1. [Close the database connection](#Close-the-database-connection)\n1. [Summary](#Summary)\n\n\n## Setup\n\nBefore beginning you will need a *dashDB* warehouse. dashDB is a fully managed cloud data warehouse, purpose-built for analytics. It offers massively parallel processing (MPP) scale and compatibility with a wide range of business intelligence (BI) tools.  \n\n[Try dashDB free of charge on IBM Bluemix.](https://console.ng.bluemix.net/catalog/services/dashdb)\n\n<a class=\"ibm-tooltip\" href=\"https://console.ng.bluemix.net/catalog/services/dashdb\" target=\"_blank\" title=\"\" id=\"ibm-tooltip-0\">\n<img alt=\"IBM Bluemix.Get started now\" height=\"193\" width=\"153\" src=\"https://ibm.box.com/shared/static/42yt39czuksqdi278xpy96txtlw3lfmb.png\" >\n</a>\n\n\n\n\n\n## Import the *ibmdbpy* Python library\n\nPython support for dashDB and DB2 is provided by the [ibmdbpy Python library](https://pypi.python.org/pypi/ibmdbpy). Connecting to dashDB or DB2 is also enabled by a DB2 driver, libdb2.so.\n\nThe JDBC Connection is based on a Java virtual machine. From the ibmdbpy library you can use JDBC to connect to a remote dashDB/DB2 instance. To be able to use JDBC to connect, we need to import the *JayDeBeApi* package.\n\nRun the following commands to install and load the JayDeBeApi package and the ibmdbpy library into your notebook:"
        }, 
        {
            "execution_count": 1, 
            "metadata": {}, 
            "cell_type": "code", 
            "outputs": [
                {
                    "output_type": "stream", 
                    "name": "stdout", 
                    "text": "Requirement already satisfied: jaydebeapi in /usr/local/src/bluemix_jupyter_bundle.v49/notebook/lib/python2.7/site-packages\nRequirement already satisfied: JPype1 in /usr/local/src/bluemix_jupyter_bundle.v49/notebook/lib/python2.7/site-packages (from jaydebeapi)\nRequirement already satisfied: ibmdbpy in /usr/local/src/bluemix_jupyter_bundle.v49/notebook/lib/python2.7/site-packages\nRequirement already satisfied: future in /usr/local/src/bluemix_jupyter_bundle.v49/notebook/lib/python2.7/site-packages (from ibmdbpy)\nRequirement already satisfied: pandas in /usr/local/src/bluemix_jupyter_bundle.v49/notebook/lib/python2.7/site-packages (from ibmdbpy)\nRequirement already satisfied: numpy in /usr/local/src/bluemix_jupyter_bundle.v49/notebook/lib/python2.7/site-packages (from ibmdbpy)\nRequirement already satisfied: pypyodbc in /usr/local/src/bluemix_jupyter_bundle.v49/notebook/lib/python2.7/site-packages (from ibmdbpy)\nRequirement already satisfied: lazy in /usr/local/src/bluemix_jupyter_bundle.v49/notebook/lib/python2.7/site-packages (from ibmdbpy)\nRequirement already satisfied: six in /usr/local/src/bluemix_jupyter_bundle.v49/notebook/lib/python2.7/site-packages (from ibmdbpy)\nRequirement already satisfied: python-dateutil in /usr/local/src/bluemix_jupyter_bundle.v49/notebook/lib/python2.7/site-packages (from pandas->ibmdbpy)\nRequirement already satisfied: pytz>=2011k in /usr/local/src/bluemix_jupyter_bundle.v49/notebook/lib/python2.7/site-packages (from pandas->ibmdbpy)\nRequirement already satisfied: setuptools in /usr/local/src/bluemix_jupyter_bundle.v49/notebook/lib/python2.7/site-packages (from pypyodbc->ibmdbpy)\n"
                }
            ], 
            "source": "!pip install jaydebeapi --user  \n!pip install ibmdbpy --user "
        }, 
        {
            "execution_count": 2, 
            "metadata": {
                "collapsed": true
            }, 
            "cell_type": "code", 
            "outputs": [], 
            "source": "import jaydebeapi\nfrom ibmdbpy import IdaDataBase\nfrom ibmdbpy import IdaDataFrame"
        }, 
        {
            "execution_count": 3, 
            "metadata": {
                "collapsed": true
            }, 
            "cell_type": "code", 
            "outputs": [], 
            "source": "import os\nos.environ['CLASSPATH'] = \"/usr/local/src/data-connectors-1.4.1/db2jcc4-10.5.0.6.jar\""
        }, 
        {
            "execution_count": 4, 
            "metadata": {
                "collapsed": true
            }, 
            "cell_type": "code", 
            "outputs": [], 
            "source": "import jpype\nargs='-Djava.class.path=%s' % os.environ['CLASSPATH']\njvm = jpype.getDefaultJVMPath()\njpype.startJVM(jvm, args)"
        }, 
        {
            "metadata": {}, 
            "cell_type": "markdown", 
            "source": "\n## Identify and enter the database connection credentials\n\nConnecting to dashDB or a DB2 database requires the following information:\n* Database name \n* Host DNS name or IP address \n* Host port\n* Connection protocol\n* User ID\n* User password\n\nAll of this information must be captured in a connection string in a subsequent step. Provide the dashDB or DB2 connection information as shown:"
        }, 
        {
            "execution_count": 5, 
            "metadata": {}, 
            "cell_type": "code", 
            "outputs": [], 
            "source": "dsn_uid = \"dash14109\";  # e.g.  dash104434\ndsn_pwd = \"c85c9d78ce83\"   # e.g. xxxx\ndsn_hostname =\"dashdb-entry-yp-dal09-08.services.dal.bluemix.net\"  # e.g.  awh-yp-small03.services.dal.bluemix.net\ndsn_port = \"50000\"   # e.g.  50001\ndsn_database = \"BLUDB\"   # e.g. BLUDB "
        }, 
        {
            "metadata": {}, 
            "cell_type": "markdown", 
            "source": "## Create the database connection\n\nThe following code snippet creates a connection string `connection_string`\nand uses the `connection_string` to create a DB2 connection object:\n"
        }, 
        {
            "execution_count": 6, 
            "metadata": {}, 
            "cell_type": "code", 
            "outputs": [], 
            "source": "connection_string='jdbc:db2://'+dsn_hostname+':'+dsn_port+'/'+dsn_database+':user='+dsn_uid+';password='+dsn_pwd+\";\" \nidadb=IdaDataBase(dsn=connection_string)"
        }, 
        {
            "metadata": {}, 
            "cell_type": "markdown", 
            "source": "## Use dataframe to read and manipulate tables\n\nYou can now use the connection object `conn` to query the database:"
        }, 
        {
            "execution_count": 10, 
            "metadata": {}, 
            "cell_type": "code", 
            "outputs": [
                {
                    "execution_count": 10, 
                    "metadata": {}, 
                    "data": {
                        "text/html": "<div>\n<table border=\"1\" class=\"dataframe\">\n  <thead>\n    <tr style=\"text-align: right;\">\n      <th></th>\n      <th>TABSCHEMA</th>\n      <th>TABNAME</th>\n      <th>OWNER</th>\n      <th>TYPE</th>\n    </tr>\n  </thead>\n  <tbody>\n    <tr>\n      <th>0</th>\n      <td>DASH14109</td>\n      <td>IRIS</td>\n      <td>DASH14109</td>\n      <td>T</td>\n    </tr>\n    <tr>\n      <th>1</th>\n      <td>DASH14109</td>\n      <td>KMEANS_80020_1499244005_CLUSTERS</td>\n      <td>DASH14109</td>\n      <td>T</td>\n    </tr>\n    <tr>\n      <th>2</th>\n      <td>DASH14109</td>\n      <td>KMEANS_80020_1499244005_COLUMNS</td>\n      <td>DASH14109</td>\n      <td>T</td>\n    </tr>\n    <tr>\n      <th>3</th>\n      <td>DASH14109</td>\n      <td>KMEANS_80020_1499244005_COLUMN_STATISTICS</td>\n      <td>DASH14109</td>\n      <td>T</td>\n    </tr>\n    <tr>\n      <th>4</th>\n      <td>DASH14109</td>\n      <td>KMEANS_80020_1499244005_MODEL</td>\n      <td>DASH14109</td>\n      <td>T</td>\n    </tr>\n    <tr>\n      <th>5</th>\n      <td>DASH14109</td>\n      <td>MYTABLE</td>\n      <td>DASH14109</td>\n      <td>T</td>\n    </tr>\n    <tr>\n      <th>6</th>\n      <td>DASH14109</td>\n      <td>RANDOM_DATA</td>\n      <td>DASH14109</td>\n      <td>T</td>\n    </tr>\n    <tr>\n      <th>7</th>\n      <td>GOSALES</td>\n      <td>BRANCH</td>\n      <td>DB2INST1</td>\n      <td>T</td>\n    </tr>\n    <tr>\n      <th>8</th>\n      <td>GOSALES</td>\n      <td>CONVERSION_RATE</td>\n      <td>DB2INST1</td>\n      <td>T</td>\n    </tr>\n    <tr>\n      <th>9</th>\n      <td>GOSALES</td>\n      <td>COUNTRY</td>\n      <td>DB2INST1</td>\n      <td>T</td>\n    </tr>\n  </tbody>\n</table>\n</div>", 
                        "text/plain": "   TABSCHEMA                                    TABNAME      OWNER TYPE\n0  DASH14109                                       IRIS  DASH14109    T\n1  DASH14109           KMEANS_80020_1499244005_CLUSTERS  DASH14109    T\n2  DASH14109            KMEANS_80020_1499244005_COLUMNS  DASH14109    T\n3  DASH14109  KMEANS_80020_1499244005_COLUMN_STATISTICS  DASH14109    T\n4  DASH14109              KMEANS_80020_1499244005_MODEL  DASH14109    T\n5  DASH14109                                    MYTABLE  DASH14109    T\n6  DASH14109                                RANDOM_DATA  DASH14109    T\n7    GOSALES                                     BRANCH   DB2INST1    T\n8    GOSALES                            CONVERSION_RATE   DB2INST1    T\n9    GOSALES                                    COUNTRY   DB2INST1    T"
                    }, 
                    "output_type": "execute_result"
                }
            ], 
            "source": "df=idadb.show_tables(show_all = True)\ndf.head(10)"
        }, 
        {
            "execution_count": 11, 
            "metadata": {}, 
            "cell_type": "code", 
            "outputs": [
                {
                    "execution_count": 11, 
                    "metadata": {}, 
                    "data": {
                        "text/plain": "True"
                    }, 
                    "output_type": "execute_result"
                }
            ], 
            "source": "idadb.exists_table_or_view('DASH14109.RANDOM_DATA')"
        }, 
        {
            "metadata": {}, 
            "cell_type": "markdown", 
            "source": "Using our previously opened IdaDataBase instance named \u2018idadb\u2019, we can open one or several IdaDataFrame objects. They behave like pointers to remote tables.\n\nLet us open the *EMP_EXPENSE_FACT* data set, assuming it is stored in the database under the name \u2018GOSALESDW.EMP_EXPENSE_FACT\u2019. The following cell assigns the dataset to a pandas DataFrame.\n\nThe [Pandas data analysis library](http://pandas.pydata.org/) provides high-performance, easy-to-use data structures and data analysis tools for the Python programming language. Pandas allows easy processing and manipulation of tabular data, so it is a perfect fit for data extracted from relational databases.\n"
        }, 
        {
            "execution_count": 12, 
            "metadata": {
                "collapsed": true
            }, 
            "cell_type": "code", 
            "outputs": [], 
            "source": "idadf = IdaDataFrame(idadb, 'DASH14109.RANDOM_DATA')"
        }, 
        {
            "metadata": {}, 
            "cell_type": "markdown", 
            "source": "You can very easily explore the data in the IdaDataFrame by using built in functions.\n\nUse IdaDataFrame.head to get the first n records of your data set (default 5):"
        }, 
        {
            "execution_count": 13, 
            "metadata": {}, 
            "cell_type": "code", 
            "outputs": [
                {
                    "execution_count": 13, 
                    "metadata": {}, 
                    "data": {
                        "text/html": "<div>\n<table border=\"1\" class=\"dataframe\">\n  <thead>\n    <tr style=\"text-align: right;\">\n      <th></th>\n      <th>a</th>\n      <th>b</th>\n      <th>c</th>\n    </tr>\n  </thead>\n  <tbody>\n    <tr>\n      <th>0</th>\n      <td>0.000615</td>\n      <td>0.861497</td>\n      <td>0.208768</td>\n    </tr>\n    <tr>\n      <th>1</th>\n      <td>0.001046</td>\n      <td>0.211777</td>\n      <td>0.505657</td>\n    </tr>\n    <tr>\n      <th>2</th>\n      <td>0.002479</td>\n      <td>0.714791</td>\n      <td>0.320401</td>\n    </tr>\n    <tr>\n      <th>3</th>\n      <td>0.003685</td>\n      <td>0.530020</td>\n      <td>0.604680</td>\n    </tr>\n    <tr>\n      <th>4</th>\n      <td>0.006585</td>\n      <td>0.493274</td>\n      <td>0.888988</td>\n    </tr>\n  </tbody>\n</table>\n</div>", 
                        "text/plain": "          a         b         c\n0  0.000615  0.861497  0.208768\n1  0.001046  0.211777  0.505657\n2  0.002479  0.714791  0.320401\n3  0.003685  0.530020  0.604680\n4  0.006585  0.493274  0.888988"
                    }, 
                    "output_type": "execute_result"
                }
            ], 
            "source": "idadf.head(5)"
        }, 
        {
            "metadata": {}, 
            "cell_type": "markdown", 
            "source": "Use IdaDataFrame.tail to get the last n records of your data set (default 5):"
        }, 
        {
            "execution_count": 14, 
            "metadata": {}, 
            "cell_type": "code", 
            "outputs": [
                {
                    "execution_count": 14, 
                    "metadata": {}, 
                    "data": {
                        "text/html": "<div>\n<table border=\"1\" class=\"dataframe\">\n  <thead>\n    <tr style=\"text-align: right;\">\n      <th></th>\n      <th>a</th>\n      <th>b</th>\n      <th>c</th>\n    </tr>\n  </thead>\n  <tbody>\n    <tr>\n      <th>995</th>\n      <td>0.995793</td>\n      <td>0.400189</td>\n      <td>0.223407</td>\n    </tr>\n    <tr>\n      <th>996</th>\n      <td>0.996456</td>\n      <td>0.763860</td>\n      <td>0.613089</td>\n    </tr>\n    <tr>\n      <th>997</th>\n      <td>0.997599</td>\n      <td>0.125399</td>\n      <td>0.754473</td>\n    </tr>\n    <tr>\n      <th>998</th>\n      <td>0.999323</td>\n      <td>0.434667</td>\n      <td>0.682819</td>\n    </tr>\n    <tr>\n      <th>999</th>\n      <td>0.999478</td>\n      <td>0.792645</td>\n      <td>0.474033</td>\n    </tr>\n  </tbody>\n</table>\n</div>", 
                        "text/plain": "            a         b         c\n995  0.995793  0.400189  0.223407\n996  0.996456  0.763860  0.613089\n997  0.997599  0.125399  0.754473\n998  0.999323  0.434667  0.682819\n999  0.999478  0.792645  0.474033"
                    }, 
                    "output_type": "execute_result"
                }
            ], 
            "source": "idadf.tail(5)"
        }, 
        {
            "metadata": {}, 
            "cell_type": "markdown", 
            "source": "__Note:__ Because dashDB operates on a distributed system, the order of rows using IdaDataFrame.head and IdaDataFrame.tail is not guaranteed unless the table is sorted (using an \u2018ORDER BY\u2019 clause) or a column is declared as index for the IdaDataFrame (parameter/attribute indexer).\n\nIdaDataFrame also implements most attributes that are available in a pandas DataFrame:"
        }, 
        {
            "execution_count": 15, 
            "metadata": {}, 
            "cell_type": "code", 
            "outputs": [
                {
                    "execution_count": 15, 
                    "metadata": {}, 
                    "data": {
                        "text/plain": "(1000, 3)"
                    }, 
                    "output_type": "execute_result"
                }
            ], 
            "source": "idadf.shape"
        }, 
        {
            "execution_count": 16, 
            "metadata": {}, 
            "cell_type": "code", 
            "outputs": [
                {
                    "execution_count": 16, 
                    "metadata": {}, 
                    "data": {
                        "text/plain": "Index([u'a', u'b', u'c'], dtype='object')"
                    }, 
                    "output_type": "execute_result"
                }
            ], 
            "source": "idadf.columns"
        }, 
        {
            "metadata": {}, 
            "cell_type": "markdown", 
            "source": "Several standard statistics functions from the pandas interface are also available for IdaDataFrame. For example, let us calculate the covariance matrix for the iris data set:"
        }, 
        {
            "execution_count": 14, 
            "metadata": {}, 
            "cell_type": "code", 
            "outputs": [
                {
                    "execution_count": 14, 
                    "metadata": {}, 
                    "data": {
                        "text/html": "<div>\n<table border=\"1\" class=\"dataframe\">\n  <thead>\n    <tr style=\"text-align: right;\">\n      <th></th>\n      <th>DAY_KEY</th>\n      <th>ORGANIZATION_KEY</th>\n      <th>POSITION_KEY</th>\n      <th>EMPLOYEE_KEY</th>\n      <th>EXPENSE_TYPE_KEY</th>\n      <th>ACCOUNT_KEY</th>\n      <th>EXPENSE_UNIT_QUANTITY</th>\n      <th>EXPENSE_TOTAL</th>\n    </tr>\n  </thead>\n  <tbody>\n    <tr>\n      <th>DAY_KEY</th>\n      <td>1.074445e+08</td>\n      <td>-1301.774305</td>\n      <td>-2699.336397</td>\n      <td>-74463.200864</td>\n      <td>-2541.104007</td>\n      <td>-88.733494</td>\n      <td>-2747.250164</td>\n      <td>338749.301508</td>\n    </tr>\n    <tr>\n      <th>ORGANIZATION_KEY</th>\n      <td>-1.301774e+03</td>\n      <td>977.978493</td>\n      <td>-60.746262</td>\n      <td>2228.417559</td>\n      <td>-27.240468</td>\n      <td>0.756326</td>\n      <td>11.186590</td>\n      <td>-2999.218552</td>\n    </tr>\n    <tr>\n      <th>POSITION_KEY</th>\n      <td>-2.699336e+03</td>\n      <td>-60.746262</td>\n      <td>148.234472</td>\n      <td>-2070.934630</td>\n      <td>10.284910</td>\n      <td>-1.006254</td>\n      <td>-13.697657</td>\n      <td>1101.107528</td>\n    </tr>\n    <tr>\n      <th>EMPLOYEE_KEY</th>\n      <td>-7.446320e+04</td>\n      <td>2228.417559</td>\n      <td>-2070.934630</td>\n      <td>89393.601947</td>\n      <td>-237.530049</td>\n      <td>39.144365</td>\n      <td>525.387975</td>\n      <td>47399.031411</td>\n    </tr>\n    <tr>\n      <th>EXPENSE_TYPE_KEY</th>\n      <td>-2.541104e+03</td>\n      <td>-27.240468</td>\n      <td>10.284910</td>\n      <td>-237.530049</td>\n      <td>88.103306</td>\n      <td>4.663223</td>\n      <td>26.490807</td>\n      <td>5577.918013</td>\n    </tr>\n    <tr>\n      <th>ACCOUNT_KEY</th>\n      <td>-8.873349e+01</td>\n      <td>0.756326</td>\n      <td>-1.006254</td>\n      <td>39.144365</td>\n      <td>4.663223</td>\n      <td>6.414971</td>\n      <td>-92.920363</td>\n      <td>-2669.484571</td>\n    </tr>\n    <tr>\n      <th>EXPENSE_UNIT_QUANTITY</th>\n      <td>-2.747250e+03</td>\n      <td>11.186590</td>\n      <td>-13.697657</td>\n      <td>525.387975</td>\n      <td>26.490807</td>\n      <td>-92.920363</td>\n      <td>3331.325768</td>\n      <td>76740.540006</td>\n    </tr>\n    <tr>\n      <th>EXPENSE_TOTAL</th>\n      <td>3.387493e+05</td>\n      <td>-2999.218552</td>\n      <td>1101.107528</td>\n      <td>47399.031411</td>\n      <td>5577.918013</td>\n      <td>-2669.484571</td>\n      <td>76740.540006</td>\n      <td>4321078.159027</td>\n    </tr>\n  </tbody>\n</table>\n</div>", 
                        "text/plain": "                            DAY_KEY  ORGANIZATION_KEY  POSITION_KEY  \\\nDAY_KEY                1.074445e+08      -1301.774305  -2699.336397   \nORGANIZATION_KEY      -1.301774e+03        977.978493    -60.746262   \nPOSITION_KEY          -2.699336e+03        -60.746262    148.234472   \nEMPLOYEE_KEY          -7.446320e+04       2228.417559  -2070.934630   \nEXPENSE_TYPE_KEY      -2.541104e+03        -27.240468     10.284910   \nACCOUNT_KEY           -8.873349e+01          0.756326     -1.006254   \nEXPENSE_UNIT_QUANTITY -2.747250e+03         11.186590    -13.697657   \nEXPENSE_TOTAL          3.387493e+05      -2999.218552   1101.107528   \n\n                       EMPLOYEE_KEY  EXPENSE_TYPE_KEY  ACCOUNT_KEY  \\\nDAY_KEY               -74463.200864      -2541.104007   -88.733494   \nORGANIZATION_KEY        2228.417559        -27.240468     0.756326   \nPOSITION_KEY           -2070.934630         10.284910    -1.006254   \nEMPLOYEE_KEY           89393.601947       -237.530049    39.144365   \nEXPENSE_TYPE_KEY        -237.530049         88.103306     4.663223   \nACCOUNT_KEY               39.144365          4.663223     6.414971   \nEXPENSE_UNIT_QUANTITY    525.387975         26.490807   -92.920363   \nEXPENSE_TOTAL          47399.031411       5577.918013 -2669.484571   \n\n                       EXPENSE_UNIT_QUANTITY   EXPENSE_TOTAL  \nDAY_KEY                         -2747.250164   338749.301508  \nORGANIZATION_KEY                   11.186590    -2999.218552  \nPOSITION_KEY                      -13.697657     1101.107528  \nEMPLOYEE_KEY                      525.387975    47399.031411  \nEXPENSE_TYPE_KEY                   26.490807     5577.918013  \nACCOUNT_KEY                       -92.920363    -2669.484571  \nEXPENSE_UNIT_QUANTITY            3331.325768    76740.540006  \nEXPENSE_TOTAL                   76740.540006  4321078.159027  "
                    }, 
                    "output_type": "execute_result"
                }
            ], 
            "source": "idadf.cov()"
        }, 
        {
            "metadata": {}, 
            "cell_type": "markdown", 
            "source": "It is possible to subset the rows of an IdaDataFrame by accessing the IdaDataFrame with a slice object. You can also use the IdaDataFrame.loc attribute, which contains an ibmdbpy.Loc object. However, the row selection might be inaccurate if the current IdaDataFrame is not sorted or does not contain an indexer. This is due to the fact that dashDB stores the data across several nodes if available. Moreover, because dashDB is a column oriented database, row numbers are undefined:"
        }, 
        {
            "execution_count": 17, 
            "metadata": {
                "scrolled": true
            }, 
            "cell_type": "code", 
            "outputs": [
                {
                    "output_type": "stream", 
                    "name": "stderr", 
                    "text": "/usr/local/src/bluemix_jupyter_bundle.v49/notebook/lib/python2.7/site-packages/ibmdbpy/indexing.py:118: UserWarning: Row order is not guaranteed if no indexer was given and the dataset was not sorted\n  \" was given and the dataset was not sorted\")\n"
                }, 
                {
                    "execution_count": 17, 
                    "metadata": {}, 
                    "data": {
                        "text/html": "<div>\n<table border=\"1\" class=\"dataframe\">\n  <thead>\n    <tr style=\"text-align: right;\">\n      <th></th>\n      <th>a</th>\n      <th>b</th>\n      <th>c</th>\n    </tr>\n  </thead>\n  <tbody>\n    <tr>\n      <th>0</th>\n      <td>0.287028</td>\n      <td>0.236384</td>\n      <td>0.217984</td>\n    </tr>\n    <tr>\n      <th>1</th>\n      <td>0.340009</td>\n      <td>0.036560</td>\n      <td>0.840398</td>\n    </tr>\n    <tr>\n      <th>2</th>\n      <td>0.406733</td>\n      <td>0.561476</td>\n      <td>0.402355</td>\n    </tr>\n    <tr>\n      <th>3</th>\n      <td>0.489230</td>\n      <td>0.767498</td>\n      <td>0.090582</td>\n    </tr>\n    <tr>\n      <th>4</th>\n      <td>0.560241</td>\n      <td>0.396406</td>\n      <td>0.665498</td>\n    </tr>\n  </tbody>\n</table>\n</div>", 
                        "text/plain": "          a         b         c\n0  0.287028  0.236384  0.217984\n1  0.340009  0.036560  0.840398\n2  0.406733  0.561476  0.402355\n3  0.489230  0.767498  0.090582\n4  0.560241  0.396406  0.665498"
                    }, 
                    "output_type": "execute_result"
                }
            ], 
            "source": "idadf_new = idadf[0:9] # Select the first 10 rows\nidadf_new.head()"
        }, 
        {
            "execution_count": null, 
            "metadata": {
                "collapsed": true
            }, 
            "cell_type": "code", 
            "outputs": [], 
            "source": "# Close the database connection\n\nTo ensure expected behaviors, IdaDataBase instances need to be closed. Closing the *IdaDataBase* is equivalent to closing the connection: once the connection is closed, it is no longer possible to use the *IdaDataBase* instance and any IdaDataFrame instances that were opened on this connection."
        }, 
        {
            "execution_count": 18, 
            "metadata": {}, 
            "cell_type": "code", 
            "outputs": [
                {
                    "output_type": "stream", 
                    "name": "stdout", 
                    "text": "Connection closed.\n"
                }
            ], 
            "source": "idadb.close()"
        }, 
        {
            "execution_count": null, 
            "metadata": {
                "collapsed": true
            }, 
            "cell_type": "code", 
            "outputs": [], 
            "source": "## Summary\n\nThis notebook demonstrated how to establish a connection to a dashDB / DB2 database from Python using the ibmdbpy library."
        }, 
        {
            "metadata": {}, 
            "cell_type": "markdown", 
            "source": "## Want to learn more?\n### Free courses on <a href=\"https://bigdatauniversity.com/courses/?utm_source=tutorial-dashdb-python&utm_medium=github&utm_campaign=bdu/\" rel=\"noopener noreferrer\" target=\"_blank\">Big Data University</a>: <a href=\"https://bigdatauniversity.com/courses/?utm_source=tutorial-dashdb-python&utm_medium=github&utm_campaign=bdu\" rel=\"noopener noreferrer\" target=\"_blank\"><img src = \"https://ibm.box.com/shared/static/xomeu7dacwufkoawbg3owc8wzuezltn6.png\" width=600px> </a>"
        }, 
        {
            "metadata": {}, 
            "cell_type": "markdown", 
            "source": "### Authors\n\n**Saeed Aghabozorgi**, PhD, is a Data Scientist in IBM with a track record of developing enterprise-level applications that substantially increases clients' ability to turn data into actionable knowledge. He is a researcher in the data mining field and an expert in developing advanced analytic methods like machine learning and statistical modelling on large data sets.\n\n**Polong Lin** is a Data Scientist at IBM in Canada. Under the Emerging Technologies division, Polong is responsible for educating the next generation of data scientists through Big Data University. Polong is a regular speaker in conferences and meetups, and holds an M.Sc. in Cognitive Psychology."
        }, 
        {
            "metadata": {}, 
            "cell_type": "markdown", 
            "source": "Copyright \u00a9 2016, 2017 Big Data University. This notebook and its source code are released under the terms of the <a href=\"https://bigdatauniversity.com/mit-license/\" rel=\"noopener noreferrer\" target=\"_blank\">MIT License</a>."
        }
    ], 
    "nbformat_minor": 1
}